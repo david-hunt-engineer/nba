{
 "cells": [
  {
   "cell_type": "markdown",
   "metadata": {},
   "source": [
    "# Background reading"
   ]
  },
  {
   "cell_type": "markdown",
   "metadata": {},
   "source": [
    "### Resources"
   ]
  },
  {
   "cell_type": "markdown",
   "metadata": {},
   "source": [
    "#### Predicting Results for Professional Basketball Using NBA API Data (2016)\n",
    "http://cs229.stanford.edu/proj2016/report/PerriconeShawSwiechowicz-PredictingResultsforProfessionalBasketballUsingNBAAPIData.pdf\n",
    "\n",
    "-  \n",
    "- "
   ]
  },
  {
   "cell_type": "markdown",
   "metadata": {},
   "source": [
    "#### Predicting NBA games using neural networks (2009) \n",
    "http://www.perducosports.com/media/NBA_Article.pdf"
   ]
  },
  {
   "cell_type": "markdown",
   "metadata": {},
   "source": [
    "### Ideas"
   ]
  },
  {
   "cell_type": "code",
   "execution_count": null,
   "metadata": {
    "collapsed": true
   },
   "outputs": [],
   "source": []
  },
  {
   "cell_type": "code",
   "execution_count": null,
   "metadata": {
    "collapsed": true
   },
   "outputs": [],
   "source": []
  },
  {
   "cell_type": "code",
   "execution_count": null,
   "metadata": {
    "collapsed": true
   },
   "outputs": [],
   "source": []
  },
  {
   "cell_type": "markdown",
   "metadata": {},
   "source": [
    "# Load some data and take a look"
   ]
  },
  {
   "cell_type": "code",
   "execution_count": 1,
   "metadata": {
    "collapsed": true
   },
   "outputs": [],
   "source": [
    "%load_ext autoreload\n",
    "%autoreload 2"
   ]
  },
  {
   "cell_type": "code",
   "execution_count": 8,
   "metadata": {},
   "outputs": [],
   "source": [
    "import numpy as np\n",
    "import pandas as pd\n",
    "from nba_predict import *\n",
    "from pandas.io.json import json_normalize\n",
    "import json\n",
    "import ast"
   ]
  },
  {
   "cell_type": "code",
   "execution_count": 3,
   "metadata": {
    "collapsed": true
   },
   "outputs": [],
   "source": [
    "with open('F:/Documents/_DataScience/nba_data/test.json', 'r') as f:\n",
    "    data = json.loads(f.read())\n",
    "    \n",
    "raw_df = pd.DataFrame(data)   "
   ]
  },
  {
   "cell_type": "code",
   "execution_count": 4,
   "metadata": {},
   "outputs": [
    {
     "data": {
      "text/plain": [
       "Index(['box_score', 'day', 'home_city', 'home_line', 'home_name', 'summary',\n",
       "       'vis_city', 'vis_line', 'vis_name'],\n",
       "      dtype='object')"
      ]
     },
     "execution_count": 4,
     "metadata": {},
     "output_type": "execute_result"
    }
   ],
   "source": [
    "raw_df.columns"
   ]
  },
  {
   "cell_type": "code",
   "execution_count": 49,
   "metadata": {},
   "outputs": [
    {
     "data": {
      "text/html": [
       "<div>\n",
       "<style scoped>\n",
       "    .dataframe tbody tr th:only-of-type {\n",
       "        vertical-align: middle;\n",
       "    }\n",
       "\n",
       "    .dataframe tbody tr th {\n",
       "        vertical-align: top;\n",
       "    }\n",
       "\n",
       "    .dataframe thead th {\n",
       "        text-align: right;\n",
       "    }\n",
       "</style>\n",
       "<table border=\"1\" class=\"dataframe\">\n",
       "  <thead>\n",
       "    <tr style=\"text-align: right;\">\n",
       "      <th></th>\n",
       "      <th>season</th>\n",
       "      <th>day</th>\n",
       "      <th>season_max_date</th>\n",
       "      <th>home_wins</th>\n",
       "      <th>home_pts</th>\n",
       "      <th>away_pts</th>\n",
       "    </tr>\n",
       "  </thead>\n",
       "  <tbody>\n",
       "    <tr>\n",
       "      <th>1312</th>\n",
       "      <td>2016-2017</td>\n",
       "      <td>2017-03-25</td>\n",
       "      <td>2017-10-01</td>\n",
       "      <td>47</td>\n",
       "      <td>115</td>\n",
       "      <td>127</td>\n",
       "    </tr>\n",
       "    <tr>\n",
       "      <th>967</th>\n",
       "      <td>2016-2017</td>\n",
       "      <td>2017-03-22</td>\n",
       "      <td>2017-10-01</td>\n",
       "      <td>43</td>\n",
       "      <td>104</td>\n",
       "      <td>100</td>\n",
       "    </tr>\n",
       "    <tr>\n",
       "      <th>878</th>\n",
       "      <td>2016-2017</td>\n",
       "      <td>2017-03-08</td>\n",
       "      <td>2017-10-01</td>\n",
       "      <td>29</td>\n",
       "      <td>113</td>\n",
       "      <td>123</td>\n",
       "    </tr>\n",
       "    <tr>\n",
       "      <th>1111</th>\n",
       "      <td>2016-2017</td>\n",
       "      <td>2017-03-07</td>\n",
       "      <td>2017-10-01</td>\n",
       "      <td>21</td>\n",
       "      <td>127</td>\n",
       "      <td>131</td>\n",
       "    </tr>\n",
       "    <tr>\n",
       "      <th>541</th>\n",
       "      <td>2016-2017</td>\n",
       "      <td>2017-03-01</td>\n",
       "      <td>2017-10-01</td>\n",
       "      <td>36</td>\n",
       "      <td>106</td>\n",
       "      <td>114</td>\n",
       "    </tr>\n",
       "    <tr>\n",
       "      <th>415</th>\n",
       "      <td>2016-2017</td>\n",
       "      <td>2017-01-19</td>\n",
       "      <td>2017-10-01</td>\n",
       "      <td>19</td>\n",
       "      <td>110</td>\n",
       "      <td>113</td>\n",
       "    </tr>\n",
       "    <tr>\n",
       "      <th>515</th>\n",
       "      <td>2016-2017</td>\n",
       "      <td>2017-01-19</td>\n",
       "      <td>2017-10-01</td>\n",
       "      <td>19</td>\n",
       "      <td>110</td>\n",
       "      <td>113</td>\n",
       "    </tr>\n",
       "    <tr>\n",
       "      <th>52</th>\n",
       "      <td>2016-2017</td>\n",
       "      <td>2016-12-06</td>\n",
       "      <td>2017-10-01</td>\n",
       "      <td>7</td>\n",
       "      <td>116</td>\n",
       "      <td>124</td>\n",
       "    </tr>\n",
       "    <tr>\n",
       "      <th>119</th>\n",
       "      <td>2016-2017</td>\n",
       "      <td>2016-11-30</td>\n",
       "      <td>2017-10-01</td>\n",
       "      <td>12</td>\n",
       "      <td>126</td>\n",
       "      <td>115</td>\n",
       "    </tr>\n",
       "    <tr>\n",
       "      <th>883</th>\n",
       "      <td>2016-2017</td>\n",
       "      <td>2016-11-16</td>\n",
       "      <td>2017-10-01</td>\n",
       "      <td>2</td>\n",
       "      <td>109</td>\n",
       "      <td>102</td>\n",
       "    </tr>\n",
       "    <tr>\n",
       "      <th>743</th>\n",
       "      <td>2016-2017</td>\n",
       "      <td>2016-11-07</td>\n",
       "      <td>2017-10-01</td>\n",
       "      <td>1</td>\n",
       "      <td>106</td>\n",
       "      <td>114</td>\n",
       "    </tr>\n",
       "    <tr>\n",
       "      <th>601</th>\n",
       "      <td>2016-2017</td>\n",
       "      <td>2016-10-27</td>\n",
       "      <td>2017-10-01</td>\n",
       "      <td>1</td>\n",
       "      <td>114</td>\n",
       "      <td>99</td>\n",
       "    </tr>\n",
       "    <tr>\n",
       "      <th>353</th>\n",
       "      <td>2016-2017</td>\n",
       "      <td>2016-10-15</td>\n",
       "      <td>2017-10-01</td>\n",
       "      <td>3</td>\n",
       "      <td>124</td>\n",
       "      <td>119</td>\n",
       "    </tr>\n",
       "    <tr>\n",
       "      <th>196</th>\n",
       "      <td>2016-2017</td>\n",
       "      <td>2016-10-06</td>\n",
       "      <td>2017-10-01</td>\n",
       "      <td>1</td>\n",
       "      <td>119</td>\n",
       "      <td>125</td>\n",
       "    </tr>\n",
       "    <tr>\n",
       "      <th>1461</th>\n",
       "      <td>2015-2016</td>\n",
       "      <td>2016-03-25</td>\n",
       "      <td>2016-10-01</td>\n",
       "      <td>35</td>\n",
       "      <td>129</td>\n",
       "      <td>132</td>\n",
       "    </tr>\n",
       "    <tr>\n",
       "      <th>217</th>\n",
       "      <td>2015-2016</td>\n",
       "      <td>2016-03-21</td>\n",
       "      <td>2016-10-01</td>\n",
       "      <td>35</td>\n",
       "      <td>101</td>\n",
       "      <td>122</td>\n",
       "    </tr>\n",
       "    <tr>\n",
       "      <th>1421</th>\n",
       "      <td>2015-2016</td>\n",
       "      <td>2016-03-11</td>\n",
       "      <td>2016-10-01</td>\n",
       "      <td>30</td>\n",
       "      <td>114</td>\n",
       "      <td>93</td>\n",
       "    </tr>\n",
       "    <tr>\n",
       "      <th>1096</th>\n",
       "      <td>2015-2016</td>\n",
       "      <td>2016-02-26</td>\n",
       "      <td>2016-10-01</td>\n",
       "      <td>8</td>\n",
       "      <td>94</td>\n",
       "      <td>103</td>\n",
       "    </tr>\n",
       "    <tr>\n",
       "      <th>770</th>\n",
       "      <td>2015-2016</td>\n",
       "      <td>2016-02-26</td>\n",
       "      <td>2016-10-01</td>\n",
       "      <td>8</td>\n",
       "      <td>94</td>\n",
       "      <td>103</td>\n",
       "    </tr>\n",
       "    <tr>\n",
       "      <th>920</th>\n",
       "      <td>2015-2016</td>\n",
       "      <td>2016-02-19</td>\n",
       "      <td>2016-10-01</td>\n",
       "      <td>31</td>\n",
       "      <td>114</td>\n",
       "      <td>94</td>\n",
       "    </tr>\n",
       "  </tbody>\n",
       "</table>\n",
       "</div>"
      ],
      "text/plain": [
       "         season        day season_max_date home_wins home_pts away_pts\n",
       "1312  2016-2017 2017-03-25      2017-10-01        47      115      127\n",
       "967   2016-2017 2017-03-22      2017-10-01        43      104      100\n",
       "878   2016-2017 2017-03-08      2017-10-01        29      113      123\n",
       "1111  2016-2017 2017-03-07      2017-10-01        21      127      131\n",
       "541   2016-2017 2017-03-01      2017-10-01        36      106      114\n",
       "415   2016-2017 2017-01-19      2017-10-01        19      110      113\n",
       "515   2016-2017 2017-01-19      2017-10-01        19      110      113\n",
       "52    2016-2017 2016-12-06      2017-10-01         7      116      124\n",
       "119   2016-2017 2016-11-30      2017-10-01        12      126      115\n",
       "883   2016-2017 2016-11-16      2017-10-01         2      109      102\n",
       "743   2016-2017 2016-11-07      2017-10-01         1      106      114\n",
       "601   2016-2017 2016-10-27      2017-10-01         1      114       99\n",
       "353   2016-2017 2016-10-15      2017-10-01         3      124      119\n",
       "196   2016-2017 2016-10-06      2017-10-01         1      119      125\n",
       "1461  2015-2016 2016-03-25      2016-10-01        35      129      132\n",
       "217   2015-2016 2016-03-21      2016-10-01        35      101      122\n",
       "1421  2015-2016 2016-03-11      2016-10-01        30      114       93\n",
       "1096  2015-2016 2016-02-26      2016-10-01         8       94      103\n",
       "770   2015-2016 2016-02-26      2016-10-01         8       94      103\n",
       "920   2015-2016 2016-02-19      2016-10-01        31      114       94"
      ]
     },
     "execution_count": 49,
     "metadata": {},
     "output_type": "execute_result"
    }
   ],
   "source": [
    "def only_dict(d):\n",
    "    '''\n",
    "    Convert json string representation of dictionary to a python dict\n",
    "    '''\n",
    "    return ast.literal_eval(d)\n",
    "\n",
    "def list_of_dicts(ld):\n",
    "    '''\n",
    "    Create a mapping of the tuples formed after \n",
    "    converting json strings of list to a python list   \n",
    "    '''\n",
    "    return dict([(list(d.values())[1], list(d.values())[0]) for d in ast.literal_eval(ld)])\n",
    "\n",
    "def extract_json_column(df, col, prefix):\n",
    "    '''\n",
    "    Convert a column containing json objects to a new df\n",
    "    '''\n",
    "    return json_normalize(df[col].astype(\"str\").apply(only_dict).tolist()).add_prefix(prefix)\n",
    "\n",
    "def fix_column_names(x):\n",
    "    '''\n",
    "    Tidy up column names from file for easier reading\n",
    "    '''\n",
    "    \n",
    "    y = x.replace('-', '_')\n",
    "    y = y.lower()\n",
    "    y = y.replace('team_', '')\n",
    "    return y\n",
    "\n",
    "def extract_box_scores(df):\n",
    "    home = extract_json_column(df, 'home_line', 'home_')\n",
    "    away = extract_json_column(df, 'vis_line', 'away_')\n",
    "    \n",
    "    box = home.merge(away, left_index=True, right_index=True)\n",
    "    box = box.merge(df[['day']], left_index=True, right_index=True)\n",
    "    \n",
    "    box.rename(fix_column_names, axis='columns', inplace=True)\n",
    "    box.drop(['home_city', 'away_city'], inplace=True, axis=1)\n",
    "    \n",
    "    #Reorder\n",
    "    to_front = ['day', 'home_name', 'away_name']\n",
    "    cols = box.columns.tolist()\n",
    "    for i in to_front:\n",
    "        cols.remove(i)\n",
    "    cols = to_front + cols\n",
    "    box['day'] = pd.to_datetime(box['day'], format='%m_%d_%y')\n",
    "       \n",
    "    return box[cols]\n",
    "\n",
    "def get_season(df):\n",
    "    df2 = df.copy()\n",
    "    year = 2018\n",
    "    while year > 2005:\n",
    "        max_date = pd.to_datetime('{}-10-01'.format(year))\n",
    "        min_date = pd.to_datetime('{}-10-01'.format(year-1))\n",
    "        df2.loc[(min_date < df2.day) & (df2.day < max_date),'season'] = '{}-{}'.format(year-1, year)\n",
    "        df2.loc[(min_date < df2.day) & (df2.day < max_date),'season_max_date'] = max_date\n",
    "        df2.loc[(min_date < df2.day) & (df2.day < max_date),'season_min_date'] = min_date\n",
    "        year -= 1\n",
    "    return df2\n",
    "\n",
    "scores = extract_box_scores(raw_df)\n",
    "scores.sort_values(by=['day'], ascending=False, inplace=True)\n",
    "scores = get_season(scores)\n",
    "\n",
    "# scores2 = get_season_to_date_stats(scores)\n",
    "\n",
    "# def get_last_n_to_date_stats(df, n):\n",
    "#     for team in scores.home_name.unique():\n",
    "#         # get home games\n",
    "#         df[home_name == team]\n",
    "#         # get away games\n",
    "        \n",
    "        \n",
    "#         df[df.tail(3).mean() > df.mean()]\n",
    "    \n",
    "scores.loc[scores.home_name == 'Wizards',['season', 'day', 'season_max_date', 'home_wins', 'home_pts', 'away_pts']].head(20)"
   ]
  },
  {
   "cell_type": "code",
   "execution_count": 47,
   "metadata": {},
   "outputs": [
    {
     "data": {
      "text/plain": [
       "Index(['day', 'home_name', 'away_name', 'home_ast', 'home_fg3_pct',\n",
       "       'home_fg_pct', 'home_ft_pct', 'home_losses', 'home_pts',\n",
       "       'home_pts_qtr1', 'home_pts_qtr2', 'home_pts_qtr3', 'home_pts_qtr4',\n",
       "       'home_reb', 'home_tov', 'home_wins', 'away_ast', 'away_fg3_pct',\n",
       "       'away_fg_pct', 'away_ft_pct', 'away_losses', 'away_pts',\n",
       "       'away_pts_qtr1', 'away_pts_qtr2', 'away_pts_qtr3', 'away_pts_qtr4',\n",
       "       'away_reb', 'away_tov', 'away_wins', 'season', 'season_max_date',\n",
       "       'season_min_date'],\n",
       "      dtype='object')"
      ]
     },
     "execution_count": 47,
     "metadata": {},
     "output_type": "execute_result"
    }
   ],
   "source": [
    "scores.columns.unique()\n",
    "# scores.home_name.unique()"
   ]
  },
  {
   "cell_type": "code",
   "execution_count": 17,
   "metadata": {},
   "outputs": [
    {
     "data": {
      "text/plain": [
       "count                    1635\n",
       "unique                   1016\n",
       "top       2017-02-08 00:00:00\n",
       "freq                        6\n",
       "first     2006-11-03 00:00:00\n",
       "last      2017-03-26 00:00:00\n",
       "Name: day, dtype: object"
      ]
     },
     "execution_count": 17,
     "metadata": {},
     "output_type": "execute_result"
    }
   ],
   "source": [
    "scores.day.describe()"
   ]
  }
 ],
 "metadata": {
  "kernelspec": {
   "display_name": "Python 3",
   "language": "python",
   "name": "python3"
  },
  "language_info": {
   "codemirror_mode": {
    "name": "ipython",
    "version": 3
   },
   "file_extension": ".py",
   "mimetype": "text/x-python",
   "name": "python",
   "nbconvert_exporter": "python",
   "pygments_lexer": "ipython3",
   "version": "3.6.3"
  }
 },
 "nbformat": 4,
 "nbformat_minor": 2
}
