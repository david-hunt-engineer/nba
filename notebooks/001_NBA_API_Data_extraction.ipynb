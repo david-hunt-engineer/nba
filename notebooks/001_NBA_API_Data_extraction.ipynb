{
 "cells": [
  {
   "cell_type": "markdown",
   "metadata": {},
   "source": [
    "# NBA PREDICTIVE MODELLING"
   ]
  },
  {
   "cell_type": "markdown",
   "metadata": {},
   "source": [
    "#### Resources\n",
    "Predicting Results for Professional Basketball Using NBA API Data (2016)\n",
    "http://cs229.stanford.edu/proj2016/report/PerriconeShawSwiechowicz-PredictingResultsforProfessionalBasketballUsingNBAAPIData.pdf\n",
    "\n",
    "#### Predicting NBA games using neural networks (2009)\n",
    "http://www.perducosports.com/media/NBA_Article.pdf"
   ]
  },
  {
   "cell_type": "markdown",
   "metadata": {},
   "source": [
    "## 1. Build a Historical data set with the help of NBA_PY"
   ]
  },
  {
   "cell_type": "markdown",
   "metadata": {},
   "source": [
    "#### Season name:\n",
    "Format: NNNN-NN (eg. 1995-96)\n",
    "#### Game ID:\n",
    "Format: 002\"YY-1\"\"Game Number\" (eg. 0021600001, 2017 Season First Game)\n",
    "#### SeasonType:\n",
    "One of: \"Regular Season\", \"Pre Season\", \"Playoffs\", \"All-Star\", \"All Star\", \"Preseason\""
   ]
  },
  {
   "cell_type": "code",
   "execution_count": 19,
   "metadata": {
    "collapsed": true
   },
   "outputs": [],
   "source": [
    "import nba_py\n",
    "import nba_py.game as api_game\n",
    "import nba_py.league as api_league\n",
    "import nba_py.team as api_team\n",
    "import nba_py.player as api_player\n",
    "# from nba_py import constants\n",
    "import pandas as pd\n",
    "import time\n",
    "import numpy as np\n",
    "from IPython.display import display, HTML\n",
    "import pyarrow"
   ]
  },
  {
   "cell_type": "markdown",
   "metadata": {},
   "source": [
    "## Get team level stats, for each season:"
   ]
  },
  {
   "cell_type": "code",
   "execution_count": 2,
   "metadata": {},
   "outputs": [
    {
     "name": "stdout",
     "output_type": "stream",
     "text": [
      "2000-01 1189\n",
      "2001-02 1189\n",
      "2002-03 1189\n",
      "2003-04 1189\n",
      "2004-05 1230\n",
      "2005-06 1230\n",
      "2006-07 1230\n",
      "2007-08 1230\n",
      "2008-09 1230\n",
      "2009-10 1230\n",
      "2010-11 1230\n",
      "2011-12 990\n",
      "2012-13 1230\n",
      "2013-14 1230\n",
      "2014-15 1230\n",
      "2015-16 1230\n",
      "2016-17 1230\n",
      "2017-18 1230\n"
     ]
    }
   ],
   "source": [
    "def get_team_ids():\n",
    "    '''\n",
    "    Get unique team identifier. Will be used as primary identifier in future work.\n",
    "    '''\n",
    "    \n",
    "    return [nba_py.constants.TEAMS[team]['id'] for team in nba_py.constants.TEAMS]\n",
    "\n",
    "\n",
    "def get_seasons_list(first, last):\n",
    "    '''\n",
    "    Get season list in Format: NNNN-NN (eg. 1995-96)\n",
    "    '''\n",
    "    \n",
    "    seasons = []\n",
    "    for year in range(first,last):\n",
    "        seasons.append('{}-{}'.format(str(year), str(year+1)[2:]))\n",
    "    return seasons\n",
    "\n",
    "\n",
    "def get_season_lengths(seasons, team_ids):\n",
    "    '''\n",
    "    Get season length by iterating through each teams schedule. \n",
    "    Probably a better way but can't find it in api.\n",
    "    '''\n",
    "    \n",
    "    season_lengths = {}\n",
    "    for season in seasons:\n",
    "        game_ids = []\n",
    "        for team_count, team in enumerate(team_ids):\n",
    "            team_games = api_team.TeamGameLogs(season=season,team_id=team)\n",
    "\n",
    "            if team_count==0:\n",
    "                game_ids = list(team_games.info().Game_ID.values)\n",
    "            else:\n",
    "                game_ids += list(team_games.info().Game_ID.values)\n",
    "            time.sleep(1)\n",
    "            \n",
    "        season_lengths[season] = len(set(game_ids))\n",
    "        print(season, len(set(game_ids)))\n",
    "    return season_lengths\n",
    "\n",
    "\n",
    "team_ids = get_team_ids()\n",
    "seasons = get_seasons_list(2000, 2018)\n",
    "season_lengths = get_season_lengths(seasons, team_ids)"
   ]
  },
  {
   "cell_type": "code",
   "execution_count": 18,
   "metadata": {},
   "outputs": [
    {
     "ename": "SyntaxError",
     "evalue": "invalid syntax (<ipython-input-18-5190236f6838>, line 1)",
     "output_type": "error",
     "traceback": [
      "\u001b[0;36m  File \u001b[0;32m\"<ipython-input-18-5190236f6838>\"\u001b[0;36m, line \u001b[0;32m1\u001b[0m\n\u001b[0;31m    season_lengths = {'2000-01' 1189,\u001b[0m\n\u001b[0m                                   ^\u001b[0m\n\u001b[0;31mSyntaxError\u001b[0m\u001b[0;31m:\u001b[0m invalid syntax\n"
     ]
    }
   ],
   "source": [
    "season_lengths = {'2000-01': 1189,\n",
    "'2001-02':  1189,\n",
    "'2002-03':  1189,\n",
    "'2003-04':  1189,\n",
    "'2004-05':  1230,\n",
    "'2005-06':  1230,\n",
    "'2006-07':  1230,\n",
    "'2007-08':  1230,\n",
    "'2008-09':  1230,\n",
    "'2009-10':  1230,\n",
    "'2010-11':  1230,\n",
    "'2011-12':  990,\n",
    "'2012-13':  1230,\n",
    "'2013-14':  1230,\n",
    "'2014-15':  1230,\n",
    "'2015-16':  1230,\n",
    "'2016-17':  1230,\n",
    "'2017-18': 1230}"
   ]
  },
  {
   "cell_type": "code",
   "execution_count": 20,
   "metadata": {},
   "outputs": [
    {
     "data": {
      "text/plain": [
       "{'2000-01': 1189,\n",
       " '2001-02': 1189,\n",
       " '2002-03': 1189,\n",
       " '2003-04': 1189,\n",
       " '2004-05': 1230,\n",
       " '2005-06': 1230,\n",
       " '2006-07': 1230,\n",
       " '2007-08': 1230,\n",
       " '2008-09': 1230,\n",
       " '2009-10': 1230,\n",
       " '2010-11': 1230,\n",
       " '2011-12': 990,\n",
       " '2012-13': 1230,\n",
       " '2013-14': 1230,\n",
       " '2014-15': 1230,\n",
       " '2015-16': 1230,\n",
       " '2016-17': 1230,\n",
       " '2017-18': 1230}"
      ]
     },
     "execution_count": 20,
     "metadata": {},
     "output_type": "execute_result"
    }
   ],
   "source": [
    "season_lengths"
   ]
  },
  {
   "cell_type": "code",
   "execution_count": 16,
   "metadata": {},
   "outputs": [],
   "source": [
    "def get_game_features(game_id, sleep_between_requests=0.2):\n",
    "    '''\n",
    "    For a given game id combine all the (useful) boxscore data available. \n",
    "    Dump to parquet for each season\n",
    "    '''\n",
    "    \n",
    "    boxscore_keep = ['GAME_ID', 'TEAM_ID', 'FGM', 'FGA', 'FG3M', 'FG3A', 'FTM', 'FTA',\n",
    "                     'OREB', 'DREB', 'REB', 'AST', 'STL', 'BLK', 'TO', 'PF', 'PTS', 'PLUS_MINUS']\n",
    "    boxscore_adv_keep = ['GAME_ID', 'TEAM_ID', 'OFF_RATING', 'DEF_RATING', 'NET_RATING', \n",
    "                         'AST_PCT', 'AST_TOV', 'AST_RATIO', 'DREB_PCT', 'REB_PCT', \n",
    "                         'TS_PCT', 'USG_PCT', 'PACE', 'PIE']\n",
    "    boxscore_4f_keep = ['GAME_ID', 'TEAM_ID', 'EFG_PCT', 'FTA_RATE', 'TM_TOV_PCT', \n",
    "                        'OREB_PCT', 'OPP_EFG_PCT', 'OPP_FTA_RATE', 'OPP_TOV_PCT', 'OPP_OREB_PCT']\n",
    "    boxscore_misc_keep = ['GAME_ID', 'TEAM_ID', 'PTS_OFF_TOV', 'PTS_2ND_CHANCE', 'PTS_FB', 'PTS_PAINT',\n",
    "                          'OPP_PTS_OFF_TOV', 'OPP_PTS_2ND_CHANCE', 'OPP_PTS_FB', 'OPP_PTS_PAINT',\n",
    "                          'BLK', 'BLKA', 'PF', 'PFD']\n",
    "    boxscore_score_keep = ['GAME_ID', 'TEAM_ID', 'PCT_FGA_2PT', 'PCT_FGA_3PT', 'PCT_PTS_2PT', \n",
    "                           'PCT_PTS_2PT_MR', 'PCT_PTS_3PT', 'PCT_PTS_FB', 'PCT_PTS_FT', 'PCT_PTS_OFF_TOV',\n",
    "                           'PCT_PTS_PAINT', 'PCT_AST_2PM', 'PCT_UAST_2PM', 'PCT_AST_3PM',\n",
    "                           'PCT_UAST_3PM', 'PCT_AST_FGM', 'PCT_UAST_FGM']\n",
    "\n",
    "    game_summary_keep = ['GAME_ID', 'GAME_DATE_EST', 'GAME_SEQUENCE', 'HOME_TEAM_ID', 'VISITOR_TEAM_ID']\n",
    "    line_score_keep = ['GAME_ID', 'TEAM_ID', 'PTS_QTR1', 'PTS_QTR2', 'PTS_QTR3', 'PTS_QTR4']\n",
    "    other_stats_keep  = ['TEAM_ID', 'LARGEST_LEAD', 'LEAD_CHANGES']\n",
    "    \n",
    "    boxscore = api_game.Boxscore(game_id).team_stats()[boxscore_keep]\n",
    "    time.sleep(sleep_between_requests)\n",
    "    \n",
    "    boxscore_adv = api_game.BoxscoreAdvanced(game_id).sql_team_advanced()[boxscore_adv_keep]\n",
    "    time.sleep(sleep_between_requests)\n",
    "    \n",
    "    boxscore_4f = api_game.BoxscoreFourFactors(game_id).sql_team_four_factors()[boxscore_4f_keep]\n",
    "    time.sleep(sleep_between_requests)\n",
    "    \n",
    "    boxscore_misc = api_game.BoxscoreMisc(game_id).sql_team_misc()[boxscore_misc_keep]\n",
    "    time.sleep(sleep_between_requests)\n",
    "    \n",
    "    boxscore_score = api_game.BoxscoreScoring(game_id).sql_team_scoring()[boxscore_score_keep]\n",
    "    time.sleep(sleep_between_requests)\n",
    "    \n",
    "    summary = api_game.BoxscoreSummary(game_id)\n",
    "    game_summary = summary.game_summary()[game_summary_keep]\n",
    "    line_score = summary.line_score()[line_score_keep]\n",
    "    other_stats = summary.other_stats()[other_stats_keep]\n",
    "\n",
    "    boxscore_combined = boxscore_4f.merge(boxscore_adv, on=['GAME_ID', 'TEAM_ID']) \n",
    "    boxscore_combined = boxscore_combined.merge(boxscore_misc, on=['GAME_ID', 'TEAM_ID']) \n",
    "    boxscore_combined = boxscore_combined.merge(boxscore_score, on=['GAME_ID', 'TEAM_ID']) \n",
    "    boxscore_combined = boxscore_combined.merge(line_score, on=['GAME_ID', 'TEAM_ID']) \n",
    "    boxscore_combined = boxscore_combined.merge(game_summary, on=['GAME_ID']) \n",
    "    boxscore_combined = boxscore_combined.merge(other_stats, on=['TEAM_ID']) \n",
    "    \n",
    "    return boxscore_combined\n",
    "\n",
    "\n",
    "\n",
    "def scrape_season_boxscores(season_lengths, skip_seasons):\n",
    "    '''\n",
    "    Use season_lengths dict to collect each season's box scores and save to parquet\n",
    "    '''\n",
    "    \n",
    "    for season in season_lengths.keys():\n",
    "        if season in skip_seasons:\n",
    "            print(\"Skipping \" + season)\n",
    "            \n",
    "        else:\n",
    "            boxscore_combined = pd.DataFrame()\n",
    "\n",
    "            for game in range(1, season_lengths[season]+1):\n",
    "                gameid = '002{}{}'.format(season[2:4], str(game).zfill(5))\n",
    "                boxscore_combined = boxscore_combined.append(get_game_features(gameid), ignore_index=True)\n",
    "\n",
    "                if game%100 == 0:\n",
    "                    print('Up to {}, game {} / {}'.format(season, game, season_lengths[season]))\n",
    "\n",
    "            boxscore_combined.to_parquet('boxscores_raw_{}.parquet'.format(season))\n"
   ]
  },
  {
   "cell_type": "code",
   "execution_count": 17,
   "metadata": {},
   "outputs": [
    {
     "name": "stdout",
     "output_type": "stream",
     "text": [
      "Skipping 2000-01\n",
      "Skipping 2001-02\n",
      "Skipping 2002-03\n",
      "Skipping 2003-04\n",
      "Skipping 2004-05\n",
      "Up to 2005-06, game 100 / 1230\n",
      "Up to 2005-06, game 200 / 1230\n",
      "Up to 2005-06, game 300 / 1230\n",
      "Up to 2005-06, game 400 / 1230\n"
     ]
    },
    {
     "ename": "KeyboardInterrupt",
     "evalue": "",
     "output_type": "error",
     "traceback": [
      "\u001b[0;31m---------------------------------------------------------------------------\u001b[0m",
      "\u001b[0;31mTypeError\u001b[0m                                 Traceback (most recent call last)",
      "\u001b[0;32mC:\\Users\\david.hunt\\AppData\\Local\\Continuum\\Anaconda3\\lib\\site-packages\\requests\\packages\\urllib3\\connectionpool.py\u001b[0m in \u001b[0;36m_make_request\u001b[0;34m(self, conn, method, url, timeout, chunked, **httplib_request_kw)\u001b[0m\n\u001b[1;32m    385\u001b[0m             \u001b[1;32mtry\u001b[0m\u001b[1;33m:\u001b[0m  \u001b[1;31m# Python 2.7, use buffering of HTTP responses\u001b[0m\u001b[1;33m\u001b[0m\u001b[0m\n\u001b[0;32m--> 386\u001b[0;31m                 \u001b[0mhttplib_response\u001b[0m \u001b[1;33m=\u001b[0m \u001b[0mconn\u001b[0m\u001b[1;33m.\u001b[0m\u001b[0mgetresponse\u001b[0m\u001b[1;33m(\u001b[0m\u001b[0mbuffering\u001b[0m\u001b[1;33m=\u001b[0m\u001b[1;32mTrue\u001b[0m\u001b[1;33m)\u001b[0m\u001b[1;33m\u001b[0m\u001b[0m\n\u001b[0m\u001b[1;32m    387\u001b[0m             \u001b[1;32mexcept\u001b[0m \u001b[0mTypeError\u001b[0m\u001b[1;33m:\u001b[0m  \u001b[1;31m# Python 2.6 and older, Python 3\u001b[0m\u001b[1;33m\u001b[0m\u001b[0m\n",
      "\u001b[0;31mTypeError\u001b[0m: getresponse() got an unexpected keyword argument 'buffering'",
      "\nDuring handling of the above exception, another exception occurred:\n",
      "\u001b[0;31mKeyboardInterrupt\u001b[0m                         Traceback (most recent call last)",
      "\u001b[0;32m<ipython-input-17-0bb5b5a3498c>\u001b[0m in \u001b[0;36m<module>\u001b[0;34m()\u001b[0m\n\u001b[0;32m----> 1\u001b[0;31m \u001b[0mscrape_season_boxscores\u001b[0m\u001b[1;33m(\u001b[0m\u001b[0mseason_lengths\u001b[0m\u001b[1;33m,\u001b[0m \u001b[0mskip_seasons\u001b[0m\u001b[1;33m=\u001b[0m\u001b[1;33m[\u001b[0m\u001b[1;34m'2000-01'\u001b[0m\u001b[1;33m,\u001b[0m\u001b[1;34m'2001-02'\u001b[0m\u001b[1;33m,\u001b[0m\u001b[1;34m'2002-03'\u001b[0m\u001b[1;33m,\u001b[0m\u001b[1;34m'2003-04'\u001b[0m\u001b[1;33m,\u001b[0m \u001b[1;34m'2004-05'\u001b[0m\u001b[1;33m]\u001b[0m\u001b[1;33m)\u001b[0m\u001b[1;33m\u001b[0m\u001b[0m\n\u001b[0m\u001b[1;32m      2\u001b[0m \u001b[1;31m# 04-05 is broken and will need to be fixed by loading from disc\u001b[0m\u001b[1;33m\u001b[0m\u001b[1;33m\u001b[0m\u001b[0m\n",
      "\u001b[0;32m<ipython-input-16-dd9af7d02282>\u001b[0m in \u001b[0;36mscrape_season_boxscores\u001b[0;34m(season_lengths, skip_seasons)\u001b[0m\n\u001b[1;32m     69\u001b[0m             \u001b[1;32mfor\u001b[0m \u001b[0mgame\u001b[0m \u001b[1;32min\u001b[0m \u001b[0mrange\u001b[0m\u001b[1;33m(\u001b[0m\u001b[1;36m1\u001b[0m\u001b[1;33m,\u001b[0m \u001b[0mseason_lengths\u001b[0m\u001b[1;33m[\u001b[0m\u001b[0mseason\u001b[0m\u001b[1;33m]\u001b[0m\u001b[1;33m+\u001b[0m\u001b[1;36m1\u001b[0m\u001b[1;33m)\u001b[0m\u001b[1;33m:\u001b[0m\u001b[1;33m\u001b[0m\u001b[0m\n\u001b[1;32m     70\u001b[0m                 \u001b[0mgameid\u001b[0m \u001b[1;33m=\u001b[0m \u001b[1;34m'002{}{}'\u001b[0m\u001b[1;33m.\u001b[0m\u001b[0mformat\u001b[0m\u001b[1;33m(\u001b[0m\u001b[0mseason\u001b[0m\u001b[1;33m[\u001b[0m\u001b[1;36m2\u001b[0m\u001b[1;33m:\u001b[0m\u001b[1;36m4\u001b[0m\u001b[1;33m]\u001b[0m\u001b[1;33m,\u001b[0m \u001b[0mstr\u001b[0m\u001b[1;33m(\u001b[0m\u001b[0mgame\u001b[0m\u001b[1;33m)\u001b[0m\u001b[1;33m.\u001b[0m\u001b[0mzfill\u001b[0m\u001b[1;33m(\u001b[0m\u001b[1;36m5\u001b[0m\u001b[1;33m)\u001b[0m\u001b[1;33m)\u001b[0m\u001b[1;33m\u001b[0m\u001b[0m\n\u001b[0;32m---> 71\u001b[0;31m                 \u001b[0mboxscore_combined\u001b[0m \u001b[1;33m=\u001b[0m \u001b[0mboxscore_combined\u001b[0m\u001b[1;33m.\u001b[0m\u001b[0mappend\u001b[0m\u001b[1;33m(\u001b[0m\u001b[0mget_game_features\u001b[0m\u001b[1;33m(\u001b[0m\u001b[0mgameid\u001b[0m\u001b[1;33m)\u001b[0m\u001b[1;33m,\u001b[0m \u001b[0mignore_index\u001b[0m\u001b[1;33m=\u001b[0m\u001b[1;32mTrue\u001b[0m\u001b[1;33m)\u001b[0m\u001b[1;33m\u001b[0m\u001b[0m\n\u001b[0m\u001b[1;32m     72\u001b[0m \u001b[1;33m\u001b[0m\u001b[0m\n\u001b[1;32m     73\u001b[0m                 \u001b[1;32mif\u001b[0m \u001b[0mgame\u001b[0m\u001b[1;33m%\u001b[0m\u001b[1;36m100\u001b[0m \u001b[1;33m==\u001b[0m \u001b[1;36m0\u001b[0m\u001b[1;33m:\u001b[0m\u001b[1;33m\u001b[0m\u001b[0m\n",
      "\u001b[0;32m<ipython-input-16-dd9af7d02282>\u001b[0m in \u001b[0;36mget_game_features\u001b[0;34m(game_id, sleep_between_requests)\u001b[0m\n\u001b[1;32m     24\u001b[0m     \u001b[0mother_stats_keep\u001b[0m  \u001b[1;33m=\u001b[0m \u001b[1;33m[\u001b[0m\u001b[1;34m'TEAM_ID'\u001b[0m\u001b[1;33m,\u001b[0m \u001b[1;34m'LARGEST_LEAD'\u001b[0m\u001b[1;33m,\u001b[0m \u001b[1;34m'LEAD_CHANGES'\u001b[0m\u001b[1;33m]\u001b[0m\u001b[1;33m\u001b[0m\u001b[0m\n\u001b[1;32m     25\u001b[0m \u001b[1;33m\u001b[0m\u001b[0m\n\u001b[0;32m---> 26\u001b[0;31m     \u001b[0mboxscore\u001b[0m \u001b[1;33m=\u001b[0m \u001b[0mapi_game\u001b[0m\u001b[1;33m.\u001b[0m\u001b[0mBoxscore\u001b[0m\u001b[1;33m(\u001b[0m\u001b[0mgame_id\u001b[0m\u001b[1;33m)\u001b[0m\u001b[1;33m.\u001b[0m\u001b[0mteam_stats\u001b[0m\u001b[1;33m(\u001b[0m\u001b[1;33m)\u001b[0m\u001b[1;33m[\u001b[0m\u001b[0mboxscore_keep\u001b[0m\u001b[1;33m]\u001b[0m\u001b[1;33m\u001b[0m\u001b[0m\n\u001b[0m\u001b[1;32m     27\u001b[0m     \u001b[0mtime\u001b[0m\u001b[1;33m.\u001b[0m\u001b[0msleep\u001b[0m\u001b[1;33m(\u001b[0m\u001b[0msleep_between_requests\u001b[0m\u001b[1;33m)\u001b[0m\u001b[1;33m\u001b[0m\u001b[0m\n\u001b[1;32m     28\u001b[0m \u001b[1;33m\u001b[0m\u001b[0m\n",
      "\u001b[0;32mc:\\users\\david.hunt\\documents\\not work\\nba_py\\nba_py\\game.py\u001b[0m in \u001b[0;36m__init__\u001b[0;34m(self, game_id, season, season_type, range_type, start_period, end_period, start_range, end_range)\u001b[0m\n\u001b[1;32m     72\u001b[0m                                       \u001b[1;34m'EndPeriod'\u001b[0m\u001b[1;33m:\u001b[0m \u001b[0mend_period\u001b[0m\u001b[1;33m,\u001b[0m\u001b[1;33m\u001b[0m\u001b[0m\n\u001b[1;32m     73\u001b[0m                                       \u001b[1;34m'StartRange'\u001b[0m\u001b[1;33m:\u001b[0m \u001b[0mstart_range\u001b[0m\u001b[1;33m,\u001b[0m\u001b[1;33m\u001b[0m\u001b[0m\n\u001b[0;32m---> 74\u001b[0;31m                                       'EndRange': end_range})\n\u001b[0m\u001b[1;32m     75\u001b[0m \u001b[1;33m\u001b[0m\u001b[0m\n\u001b[1;32m     76\u001b[0m \u001b[1;33m\u001b[0m\u001b[0m\n",
      "\u001b[0;32mc:\\users\\david.hunt\\documents\\not work\\nba_py\\nba_py\\__init__.py\u001b[0m in \u001b[0;36m_get_json\u001b[0;34m(endpoint, params, referer)\u001b[0m\n\u001b[1;32m     85\u001b[0m     \u001b[0mh\u001b[0m\u001b[1;33m[\u001b[0m\u001b[1;34m'referer'\u001b[0m\u001b[1;33m]\u001b[0m \u001b[1;33m=\u001b[0m \u001b[1;34m'http://stats.nba.com/{ref}/'\u001b[0m\u001b[1;33m.\u001b[0m\u001b[0mformat\u001b[0m\u001b[1;33m(\u001b[0m\u001b[0mref\u001b[0m\u001b[1;33m=\u001b[0m\u001b[0mreferer\u001b[0m\u001b[1;33m)\u001b[0m\u001b[1;33m\u001b[0m\u001b[0m\n\u001b[1;32m     86\u001b[0m     _get = get(BASE_URL.format(endpoint=endpoint), params=params,\n\u001b[0;32m---> 87\u001b[0;31m                headers=h)\n\u001b[0m\u001b[1;32m     88\u001b[0m     \u001b[1;31m# print _get.url\u001b[0m\u001b[1;33m\u001b[0m\u001b[1;33m\u001b[0m\u001b[0m\n\u001b[1;32m     89\u001b[0m     \u001b[0m_get\u001b[0m\u001b[1;33m.\u001b[0m\u001b[0mraise_for_status\u001b[0m\u001b[1;33m(\u001b[0m\u001b[1;33m)\u001b[0m\u001b[1;33m\u001b[0m\u001b[0m\n",
      "\u001b[0;32mC:\\Users\\david.hunt\\AppData\\Local\\Continuum\\Anaconda3\\lib\\site-packages\\requests\\api.py\u001b[0m in \u001b[0;36mget\u001b[0;34m(url, params, **kwargs)\u001b[0m\n\u001b[1;32m     68\u001b[0m \u001b[1;33m\u001b[0m\u001b[0m\n\u001b[1;32m     69\u001b[0m     \u001b[0mkwargs\u001b[0m\u001b[1;33m.\u001b[0m\u001b[0msetdefault\u001b[0m\u001b[1;33m(\u001b[0m\u001b[1;34m'allow_redirects'\u001b[0m\u001b[1;33m,\u001b[0m \u001b[1;32mTrue\u001b[0m\u001b[1;33m)\u001b[0m\u001b[1;33m\u001b[0m\u001b[0m\n\u001b[0;32m---> 70\u001b[0;31m     \u001b[1;32mreturn\u001b[0m \u001b[0mrequest\u001b[0m\u001b[1;33m(\u001b[0m\u001b[1;34m'get'\u001b[0m\u001b[1;33m,\u001b[0m \u001b[0murl\u001b[0m\u001b[1;33m,\u001b[0m \u001b[0mparams\u001b[0m\u001b[1;33m=\u001b[0m\u001b[0mparams\u001b[0m\u001b[1;33m,\u001b[0m \u001b[1;33m**\u001b[0m\u001b[0mkwargs\u001b[0m\u001b[1;33m)\u001b[0m\u001b[1;33m\u001b[0m\u001b[0m\n\u001b[0m\u001b[1;32m     71\u001b[0m \u001b[1;33m\u001b[0m\u001b[0m\n\u001b[1;32m     72\u001b[0m \u001b[1;33m\u001b[0m\u001b[0m\n",
      "\u001b[0;32mC:\\Users\\david.hunt\\AppData\\Local\\Continuum\\Anaconda3\\lib\\site-packages\\requests\\api.py\u001b[0m in \u001b[0;36mrequest\u001b[0;34m(method, url, **kwargs)\u001b[0m\n\u001b[1;32m     54\u001b[0m     \u001b[1;31m# cases, and look like a memory leak in others.\u001b[0m\u001b[1;33m\u001b[0m\u001b[1;33m\u001b[0m\u001b[0m\n\u001b[1;32m     55\u001b[0m     \u001b[1;32mwith\u001b[0m \u001b[0msessions\u001b[0m\u001b[1;33m.\u001b[0m\u001b[0mSession\u001b[0m\u001b[1;33m(\u001b[0m\u001b[1;33m)\u001b[0m \u001b[1;32mas\u001b[0m \u001b[0msession\u001b[0m\u001b[1;33m:\u001b[0m\u001b[1;33m\u001b[0m\u001b[0m\n\u001b[0;32m---> 56\u001b[0;31m         \u001b[1;32mreturn\u001b[0m \u001b[0msession\u001b[0m\u001b[1;33m.\u001b[0m\u001b[0mrequest\u001b[0m\u001b[1;33m(\u001b[0m\u001b[0mmethod\u001b[0m\u001b[1;33m=\u001b[0m\u001b[0mmethod\u001b[0m\u001b[1;33m,\u001b[0m \u001b[0murl\u001b[0m\u001b[1;33m=\u001b[0m\u001b[0murl\u001b[0m\u001b[1;33m,\u001b[0m \u001b[1;33m**\u001b[0m\u001b[0mkwargs\u001b[0m\u001b[1;33m)\u001b[0m\u001b[1;33m\u001b[0m\u001b[0m\n\u001b[0m\u001b[1;32m     57\u001b[0m \u001b[1;33m\u001b[0m\u001b[0m\n\u001b[1;32m     58\u001b[0m \u001b[1;33m\u001b[0m\u001b[0m\n",
      "\u001b[0;32mC:\\Users\\david.hunt\\AppData\\Local\\Continuum\\Anaconda3\\lib\\site-packages\\requests\\sessions.py\u001b[0m in \u001b[0;36mrequest\u001b[0;34m(self, method, url, params, data, headers, cookies, files, auth, timeout, allow_redirects, proxies, hooks, stream, verify, cert, json)\u001b[0m\n\u001b[1;32m    473\u001b[0m         }\n\u001b[1;32m    474\u001b[0m         \u001b[0msend_kwargs\u001b[0m\u001b[1;33m.\u001b[0m\u001b[0mupdate\u001b[0m\u001b[1;33m(\u001b[0m\u001b[0msettings\u001b[0m\u001b[1;33m)\u001b[0m\u001b[1;33m\u001b[0m\u001b[0m\n\u001b[0;32m--> 475\u001b[0;31m         \u001b[0mresp\u001b[0m \u001b[1;33m=\u001b[0m \u001b[0mself\u001b[0m\u001b[1;33m.\u001b[0m\u001b[0msend\u001b[0m\u001b[1;33m(\u001b[0m\u001b[0mprep\u001b[0m\u001b[1;33m,\u001b[0m \u001b[1;33m**\u001b[0m\u001b[0msend_kwargs\u001b[0m\u001b[1;33m)\u001b[0m\u001b[1;33m\u001b[0m\u001b[0m\n\u001b[0m\u001b[1;32m    476\u001b[0m \u001b[1;33m\u001b[0m\u001b[0m\n\u001b[1;32m    477\u001b[0m         \u001b[1;32mreturn\u001b[0m \u001b[0mresp\u001b[0m\u001b[1;33m\u001b[0m\u001b[0m\n",
      "\u001b[0;32mC:\\Users\\david.hunt\\AppData\\Local\\Continuum\\Anaconda3\\lib\\site-packages\\requests\\sessions.py\u001b[0m in \u001b[0;36msend\u001b[0;34m(self, request, **kwargs)\u001b[0m\n\u001b[1;32m    594\u001b[0m \u001b[1;33m\u001b[0m\u001b[0m\n\u001b[1;32m    595\u001b[0m         \u001b[1;31m# Send the request\u001b[0m\u001b[1;33m\u001b[0m\u001b[1;33m\u001b[0m\u001b[0m\n\u001b[0;32m--> 596\u001b[0;31m         \u001b[0mr\u001b[0m \u001b[1;33m=\u001b[0m \u001b[0madapter\u001b[0m\u001b[1;33m.\u001b[0m\u001b[0msend\u001b[0m\u001b[1;33m(\u001b[0m\u001b[0mrequest\u001b[0m\u001b[1;33m,\u001b[0m \u001b[1;33m**\u001b[0m\u001b[0mkwargs\u001b[0m\u001b[1;33m)\u001b[0m\u001b[1;33m\u001b[0m\u001b[0m\n\u001b[0m\u001b[1;32m    597\u001b[0m \u001b[1;33m\u001b[0m\u001b[0m\n\u001b[1;32m    598\u001b[0m         \u001b[1;31m# Total elapsed time of the request (approximately)\u001b[0m\u001b[1;33m\u001b[0m\u001b[1;33m\u001b[0m\u001b[0m\n",
      "\u001b[0;32mC:\\Users\\david.hunt\\AppData\\Local\\Continuum\\Anaconda3\\lib\\site-packages\\requests\\adapters.py\u001b[0m in \u001b[0;36msend\u001b[0;34m(self, request, stream, timeout, verify, cert, proxies)\u001b[0m\n\u001b[1;32m    421\u001b[0m                     \u001b[0mdecode_content\u001b[0m\u001b[1;33m=\u001b[0m\u001b[1;32mFalse\u001b[0m\u001b[1;33m,\u001b[0m\u001b[1;33m\u001b[0m\u001b[0m\n\u001b[1;32m    422\u001b[0m                     \u001b[0mretries\u001b[0m\u001b[1;33m=\u001b[0m\u001b[0mself\u001b[0m\u001b[1;33m.\u001b[0m\u001b[0mmax_retries\u001b[0m\u001b[1;33m,\u001b[0m\u001b[1;33m\u001b[0m\u001b[0m\n\u001b[0;32m--> 423\u001b[0;31m                     \u001b[0mtimeout\u001b[0m\u001b[1;33m=\u001b[0m\u001b[0mtimeout\u001b[0m\u001b[1;33m\u001b[0m\u001b[0m\n\u001b[0m\u001b[1;32m    424\u001b[0m                 )\n\u001b[1;32m    425\u001b[0m \u001b[1;33m\u001b[0m\u001b[0m\n",
      "\u001b[0;32mC:\\Users\\david.hunt\\AppData\\Local\\Continuum\\Anaconda3\\lib\\site-packages\\requests\\packages\\urllib3\\connectionpool.py\u001b[0m in \u001b[0;36murlopen\u001b[0;34m(self, method, url, body, headers, retries, redirect, assert_same_host, timeout, pool_timeout, release_conn, chunked, **response_kw)\u001b[0m\n\u001b[1;32m    593\u001b[0m                                                   \u001b[0mtimeout\u001b[0m\u001b[1;33m=\u001b[0m\u001b[0mtimeout_obj\u001b[0m\u001b[1;33m,\u001b[0m\u001b[1;33m\u001b[0m\u001b[0m\n\u001b[1;32m    594\u001b[0m                                                   \u001b[0mbody\u001b[0m\u001b[1;33m=\u001b[0m\u001b[0mbody\u001b[0m\u001b[1;33m,\u001b[0m \u001b[0mheaders\u001b[0m\u001b[1;33m=\u001b[0m\u001b[0mheaders\u001b[0m\u001b[1;33m,\u001b[0m\u001b[1;33m\u001b[0m\u001b[0m\n\u001b[0;32m--> 595\u001b[0;31m                                                   chunked=chunked)\n\u001b[0m\u001b[1;32m    596\u001b[0m \u001b[1;33m\u001b[0m\u001b[0m\n\u001b[1;32m    597\u001b[0m             \u001b[1;31m# If we're going to release the connection in ``finally:``, then\u001b[0m\u001b[1;33m\u001b[0m\u001b[1;33m\u001b[0m\u001b[0m\n",
      "\u001b[0;32mC:\\Users\\david.hunt\\AppData\\Local\\Continuum\\Anaconda3\\lib\\site-packages\\requests\\packages\\urllib3\\connectionpool.py\u001b[0m in \u001b[0;36m_make_request\u001b[0;34m(self, conn, method, url, timeout, chunked, **httplib_request_kw)\u001b[0m\n\u001b[1;32m    387\u001b[0m             \u001b[1;32mexcept\u001b[0m \u001b[0mTypeError\u001b[0m\u001b[1;33m:\u001b[0m  \u001b[1;31m# Python 2.6 and older, Python 3\u001b[0m\u001b[1;33m\u001b[0m\u001b[0m\n\u001b[1;32m    388\u001b[0m                 \u001b[1;32mtry\u001b[0m\u001b[1;33m:\u001b[0m\u001b[1;33m\u001b[0m\u001b[0m\n\u001b[0;32m--> 389\u001b[0;31m                     \u001b[0mhttplib_response\u001b[0m \u001b[1;33m=\u001b[0m \u001b[0mconn\u001b[0m\u001b[1;33m.\u001b[0m\u001b[0mgetresponse\u001b[0m\u001b[1;33m(\u001b[0m\u001b[1;33m)\u001b[0m\u001b[1;33m\u001b[0m\u001b[0m\n\u001b[0m\u001b[1;32m    390\u001b[0m                 \u001b[1;32mexcept\u001b[0m \u001b[0mException\u001b[0m \u001b[1;32mas\u001b[0m \u001b[0me\u001b[0m\u001b[1;33m:\u001b[0m\u001b[1;33m\u001b[0m\u001b[0m\n\u001b[1;32m    391\u001b[0m                     \u001b[1;31m# Remove the TypeError from the exception chain in Python 3;\u001b[0m\u001b[1;33m\u001b[0m\u001b[1;33m\u001b[0m\u001b[0m\n",
      "\u001b[0;32mC:\\Users\\david.hunt\\AppData\\Local\\Continuum\\Anaconda3\\lib\\http\\client.py\u001b[0m in \u001b[0;36mgetresponse\u001b[0;34m(self)\u001b[0m\n\u001b[1;32m   1329\u001b[0m         \u001b[1;32mtry\u001b[0m\u001b[1;33m:\u001b[0m\u001b[1;33m\u001b[0m\u001b[0m\n\u001b[1;32m   1330\u001b[0m             \u001b[1;32mtry\u001b[0m\u001b[1;33m:\u001b[0m\u001b[1;33m\u001b[0m\u001b[0m\n\u001b[0;32m-> 1331\u001b[0;31m                 \u001b[0mresponse\u001b[0m\u001b[1;33m.\u001b[0m\u001b[0mbegin\u001b[0m\u001b[1;33m(\u001b[0m\u001b[1;33m)\u001b[0m\u001b[1;33m\u001b[0m\u001b[0m\n\u001b[0m\u001b[1;32m   1332\u001b[0m             \u001b[1;32mexcept\u001b[0m \u001b[0mConnectionError\u001b[0m\u001b[1;33m:\u001b[0m\u001b[1;33m\u001b[0m\u001b[0m\n\u001b[1;32m   1333\u001b[0m                 \u001b[0mself\u001b[0m\u001b[1;33m.\u001b[0m\u001b[0mclose\u001b[0m\u001b[1;33m(\u001b[0m\u001b[1;33m)\u001b[0m\u001b[1;33m\u001b[0m\u001b[0m\n",
      "\u001b[0;32mC:\\Users\\david.hunt\\AppData\\Local\\Continuum\\Anaconda3\\lib\\http\\client.py\u001b[0m in \u001b[0;36mbegin\u001b[0;34m(self)\u001b[0m\n\u001b[1;32m    295\u001b[0m         \u001b[1;31m# read until we get a non-100 response\u001b[0m\u001b[1;33m\u001b[0m\u001b[1;33m\u001b[0m\u001b[0m\n\u001b[1;32m    296\u001b[0m         \u001b[1;32mwhile\u001b[0m \u001b[1;32mTrue\u001b[0m\u001b[1;33m:\u001b[0m\u001b[1;33m\u001b[0m\u001b[0m\n\u001b[0;32m--> 297\u001b[0;31m             \u001b[0mversion\u001b[0m\u001b[1;33m,\u001b[0m \u001b[0mstatus\u001b[0m\u001b[1;33m,\u001b[0m \u001b[0mreason\u001b[0m \u001b[1;33m=\u001b[0m \u001b[0mself\u001b[0m\u001b[1;33m.\u001b[0m\u001b[0m_read_status\u001b[0m\u001b[1;33m(\u001b[0m\u001b[1;33m)\u001b[0m\u001b[1;33m\u001b[0m\u001b[0m\n\u001b[0m\u001b[1;32m    298\u001b[0m             \u001b[1;32mif\u001b[0m \u001b[0mstatus\u001b[0m \u001b[1;33m!=\u001b[0m \u001b[0mCONTINUE\u001b[0m\u001b[1;33m:\u001b[0m\u001b[1;33m\u001b[0m\u001b[0m\n\u001b[1;32m    299\u001b[0m                 \u001b[1;32mbreak\u001b[0m\u001b[1;33m\u001b[0m\u001b[0m\n",
      "\u001b[0;32mC:\\Users\\david.hunt\\AppData\\Local\\Continuum\\Anaconda3\\lib\\http\\client.py\u001b[0m in \u001b[0;36m_read_status\u001b[0;34m(self)\u001b[0m\n\u001b[1;32m    256\u001b[0m \u001b[1;33m\u001b[0m\u001b[0m\n\u001b[1;32m    257\u001b[0m     \u001b[1;32mdef\u001b[0m \u001b[0m_read_status\u001b[0m\u001b[1;33m(\u001b[0m\u001b[0mself\u001b[0m\u001b[1;33m)\u001b[0m\u001b[1;33m:\u001b[0m\u001b[1;33m\u001b[0m\u001b[0m\n\u001b[0;32m--> 258\u001b[0;31m         \u001b[0mline\u001b[0m \u001b[1;33m=\u001b[0m \u001b[0mstr\u001b[0m\u001b[1;33m(\u001b[0m\u001b[0mself\u001b[0m\u001b[1;33m.\u001b[0m\u001b[0mfp\u001b[0m\u001b[1;33m.\u001b[0m\u001b[0mreadline\u001b[0m\u001b[1;33m(\u001b[0m\u001b[0m_MAXLINE\u001b[0m \u001b[1;33m+\u001b[0m \u001b[1;36m1\u001b[0m\u001b[1;33m)\u001b[0m\u001b[1;33m,\u001b[0m \u001b[1;34m\"iso-8859-1\"\u001b[0m\u001b[1;33m)\u001b[0m\u001b[1;33m\u001b[0m\u001b[0m\n\u001b[0m\u001b[1;32m    259\u001b[0m         \u001b[1;32mif\u001b[0m \u001b[0mlen\u001b[0m\u001b[1;33m(\u001b[0m\u001b[0mline\u001b[0m\u001b[1;33m)\u001b[0m \u001b[1;33m>\u001b[0m \u001b[0m_MAXLINE\u001b[0m\u001b[1;33m:\u001b[0m\u001b[1;33m\u001b[0m\u001b[0m\n\u001b[1;32m    260\u001b[0m             \u001b[1;32mraise\u001b[0m \u001b[0mLineTooLong\u001b[0m\u001b[1;33m(\u001b[0m\u001b[1;34m\"status line\"\u001b[0m\u001b[1;33m)\u001b[0m\u001b[1;33m\u001b[0m\u001b[0m\n",
      "\u001b[0;32mC:\\Users\\david.hunt\\AppData\\Local\\Continuum\\Anaconda3\\lib\\socket.py\u001b[0m in \u001b[0;36mreadinto\u001b[0;34m(self, b)\u001b[0m\n\u001b[1;32m    584\u001b[0m         \u001b[1;32mwhile\u001b[0m \u001b[1;32mTrue\u001b[0m\u001b[1;33m:\u001b[0m\u001b[1;33m\u001b[0m\u001b[0m\n\u001b[1;32m    585\u001b[0m             \u001b[1;32mtry\u001b[0m\u001b[1;33m:\u001b[0m\u001b[1;33m\u001b[0m\u001b[0m\n\u001b[0;32m--> 586\u001b[0;31m                 \u001b[1;32mreturn\u001b[0m \u001b[0mself\u001b[0m\u001b[1;33m.\u001b[0m\u001b[0m_sock\u001b[0m\u001b[1;33m.\u001b[0m\u001b[0mrecv_into\u001b[0m\u001b[1;33m(\u001b[0m\u001b[0mb\u001b[0m\u001b[1;33m)\u001b[0m\u001b[1;33m\u001b[0m\u001b[0m\n\u001b[0m\u001b[1;32m    587\u001b[0m             \u001b[1;32mexcept\u001b[0m \u001b[0mtimeout\u001b[0m\u001b[1;33m:\u001b[0m\u001b[1;33m\u001b[0m\u001b[0m\n\u001b[1;32m    588\u001b[0m                 \u001b[0mself\u001b[0m\u001b[1;33m.\u001b[0m\u001b[0m_timeout_occurred\u001b[0m \u001b[1;33m=\u001b[0m \u001b[1;32mTrue\u001b[0m\u001b[1;33m\u001b[0m\u001b[0m\n",
      "\u001b[0;31mKeyboardInterrupt\u001b[0m: "
     ]
    }
   ],
   "source": [
    "scrape_season_boxscores(season_lengths, skip_seasons=['2000-01','2001-02','2002-03','2003-04', '2004-05'])\n",
    "# 04-05 is broken and will need to be fixed by loading from disc"
   ]
  },
  {
   "cell_type": "code",
   "execution_count": null,
   "metadata": {
    "collapsed": true
   },
   "outputs": [],
   "source": []
  },
  {
   "cell_type": "markdown",
   "metadata": {},
   "source": [
    "## Player level stats:"
   ]
  },
  {
   "cell_type": "code",
   "execution_count": null,
   "metadata": {
    "collapsed": true
   },
   "outputs": [],
   "source": [
    "api.player.get_player('Kevin', 'Durant')"
   ]
  },
  {
   "cell_type": "code",
   "execution_count": null,
   "metadata": {
    "collapsed": true
   },
   "outputs": [],
   "source": [
    "## Take a look at NBA Finals 2017-18\n",
    "good_cols = ['GAME_DATE_EST', 'TEAM_NICKNAME',\n",
    "       'TEAM_WINS_LOSSES', 'PTS_QTR1', 'PTS_QTR2', 'PTS_QTR3', 'PTS_QTR4', 'PTS']\n",
    "game_number = 4\n",
    "idx = \"00217{}\".format(str(game_number).zfill(5)) #\"0041700404\"\n",
    "print(idx)\n",
    "boxscore_summary = api.game.BoxscoreSummary(idx)\n",
    "boxscore_summary.line_score()[good_cols]\n",
    "# game_stats = game.BoxscoreAdvanced(id1)\n",
    "# game_stats.sql_team_advanced()"
   ]
  }
 ],
 "metadata": {
  "kernelspec": {
   "display_name": "Python 3",
   "language": "python",
   "name": "python3"
  },
  "language_info": {
   "codemirror_mode": {
    "name": "ipython",
    "version": 3
   },
   "file_extension": ".py",
   "mimetype": "text/x-python",
   "name": "python",
   "nbconvert_exporter": "python",
   "pygments_lexer": "ipython3",
   "version": "3.6.0"
  }
 },
 "nbformat": 4,
 "nbformat_minor": 2
}
