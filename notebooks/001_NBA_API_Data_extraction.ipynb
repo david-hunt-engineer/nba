{
 "cells": [
  {
   "cell_type": "markdown",
   "metadata": {},
   "source": [
    "# NBA PREDICTIVE MODELLING"
   ]
  },
  {
   "cell_type": "markdown",
   "metadata": {},
   "source": [
    "#### Resources\n",
    "Predicting Results for Professional Basketball Using NBA API Data (2016)\n",
    "http://cs229.stanford.edu/proj2016/report/PerriconeShawSwiechowicz-PredictingResultsforProfessionalBasketballUsingNBAAPIData.pdf\n",
    "\n",
    "#### Predicting NBA games using neural networks (2009)\n",
    "http://www.perducosports.com/media/NBA_Article.pdf"
   ]
  },
  {
   "cell_type": "markdown",
   "metadata": {},
   "source": [
    "## 1. Build a Historical data set with the help of NBA_PY"
   ]
  },
  {
   "cell_type": "markdown",
   "metadata": {},
   "source": [
    "#### Season name:\n",
    "Format: NNNN-NN (eg. 1995-96)\n",
    "#### Game ID:\n",
    "Format: 002\"YY-1\"\"Game Number\" (eg. 0021600001, 2017 Season First Game)\n",
    "#### SeasonType:\n",
    "One of: \"Regular Season\", \"Pre Season\", \"Playoffs\", \"All-Star\", \"All Star\", \"Preseason\""
   ]
  },
  {
   "cell_type": "code",
   "execution_count": 2,
   "metadata": {
    "collapsed": true
   },
   "outputs": [],
   "source": [
    "import nba_py\n",
    "import nba_py.game as api_game\n",
    "import nba_py.league as api_league\n",
    "import nba_py.team as api_team\n",
    "import nba_py.player as api_player\n",
    "# from nba_py import constants\n",
    "import pandas as pd\n",
    "import time\n",
    "import numpy as np\n",
    "from IPython.display import display, HTML\n",
    "import pyarrow"
   ]
  },
  {
   "cell_type": "markdown",
   "metadata": {},
   "source": [
    "## Get team level stats, for each season:"
   ]
  },
  {
   "cell_type": "code",
   "execution_count": 2,
   "metadata": {},
   "outputs": [
    {
     "name": "stdout",
     "output_type": "stream",
     "text": [
      "2000-01 1189\n",
      "2001-02 1189\n",
      "2002-03 1189\n",
      "2003-04 1189\n",
      "2004-05 1230\n",
      "2005-06 1230\n",
      "2006-07 1230\n",
      "2007-08 1230\n",
      "2008-09 1230\n",
      "2009-10 1230\n",
      "2010-11 1230\n",
      "2011-12 990\n",
      "2012-13 1230\n",
      "2013-14 1230\n",
      "2014-15 1230\n",
      "2015-16 1230\n",
      "2016-17 1230\n",
      "2017-18 1230\n"
     ]
    }
   ],
   "source": [
    "def get_team_ids():\n",
    "    '''\n",
    "    Get unique team identifier. Will be used as primary identifier in future work.\n",
    "    '''\n",
    "    \n",
    "    return [nba_py.constants.TEAMS[team]['id'] for team in nba_py.constants.TEAMS]\n",
    "\n",
    "\n",
    "def get_seasons_list(first, last):\n",
    "    '''\n",
    "    Get season list in Format: NNNN-NN (eg. 1995-96)\n",
    "    '''\n",
    "    \n",
    "    seasons = []\n",
    "    for year in range(first,last):\n",
    "        seasons.append('{}-{}'.format(str(year), str(year+1)[2:]))\n",
    "    return seasons\n",
    "\n",
    "\n",
    "def get_season_lengths(seasons, team_ids):\n",
    "    '''\n",
    "    Get season length by iterating through each teams schedule. \n",
    "    Probably a better way but can't find it in api.\n",
    "    '''\n",
    "    \n",
    "    season_lengths = {}\n",
    "    for season in seasons:\n",
    "        game_ids = []\n",
    "        for team_count, team in enumerate(team_ids):\n",
    "            team_games = api_team.TeamGameLogs(season=season,team_id=team)\n",
    "\n",
    "            if team_count==0:\n",
    "                game_ids = list(team_games.info().Game_ID.values)\n",
    "            else:\n",
    "                game_ids += list(team_games.info().Game_ID.values)\n",
    "            time.sleep(1)\n",
    "            \n",
    "        season_lengths[season] = len(set(game_ids))\n",
    "        print(season, len(set(game_ids)))\n",
    "    return season_lengths\n",
    "\n",
    "\n",
    "team_ids = get_team_ids()\n",
    "seasons = get_seasons_list(2000, 2018)\n",
    "season_lengths = get_season_lengths(seasons, team_ids)"
   ]
  },
  {
   "cell_type": "code",
   "execution_count": 18,
   "metadata": {},
   "outputs": [
    {
     "ename": "SyntaxError",
     "evalue": "invalid syntax (<ipython-input-18-5190236f6838>, line 1)",
     "output_type": "error",
     "traceback": [
      "\u001b[0;36m  File \u001b[0;32m\"<ipython-input-18-5190236f6838>\"\u001b[0;36m, line \u001b[0;32m1\u001b[0m\n\u001b[0;31m    season_lengths = {'2000-01' 1189,\u001b[0m\n\u001b[0m                                   ^\u001b[0m\n\u001b[0;31mSyntaxError\u001b[0m\u001b[0;31m:\u001b[0m invalid syntax\n"
     ]
    }
   ],
   "source": [
    "season_lengths = {'2000-01': 1189,\n",
    "'2001-02':  1189,\n",
    "'2002-03':  1189,\n",
    "'2003-04':  1189,\n",
    "'2004-05':  1230,\n",
    "'2005-06':  1230,\n",
    "'2006-07':  1230,\n",
    "'2007-08':  1230,\n",
    "'2008-09':  1230,\n",
    "'2009-10':  1230,\n",
    "'2010-11':  1230,\n",
    "'2011-12':  990,\n",
    "'2012-13':  1230,\n",
    "'2013-14':  1230,\n",
    "'2014-15':  1230,\n",
    "'2015-16':  1230,\n",
    "'2016-17':  1230,\n",
    "'2017-18': 1230}"
   ]
  },
  {
   "cell_type": "code",
   "execution_count": 20,
   "metadata": {},
   "outputs": [
    {
     "data": {
      "text/plain": [
       "{'2000-01': 1189,\n",
       " '2001-02': 1189,\n",
       " '2002-03': 1189,\n",
       " '2003-04': 1189,\n",
       " '2004-05': 1230,\n",
       " '2005-06': 1230,\n",
       " '2006-07': 1230,\n",
       " '2007-08': 1230,\n",
       " '2008-09': 1230,\n",
       " '2009-10': 1230,\n",
       " '2010-11': 1230,\n",
       " '2011-12': 990,\n",
       " '2012-13': 1230,\n",
       " '2013-14': 1230,\n",
       " '2014-15': 1230,\n",
       " '2015-16': 1230,\n",
       " '2016-17': 1230,\n",
       " '2017-18': 1230}"
      ]
     },
     "execution_count": 20,
     "metadata": {},
     "output_type": "execute_result"
    }
   ],
   "source": [
    "season_lengths"
   ]
  },
  {
   "cell_type": "code",
   "execution_count": 24,
   "metadata": {
    "collapsed": true
   },
   "outputs": [],
   "source": [
    "def get_game_features(game_id, sleep_between_requests=0.2):\n",
    "    '''\n",
    "    For a given game id combine all the (useful) boxscore data available. \n",
    "    Dump to parquet for each season\n",
    "    '''\n",
    "    \n",
    "    boxscore_keep = ['GAME_ID', 'TEAM_ID', 'FGM', 'FGA', 'FG3M', 'FG3A', 'FTM', 'FTA',\n",
    "                     'OREB', 'DREB', 'REB', 'AST', 'STL', 'BLK', 'TO', 'PF', 'PTS', 'PLUS_MINUS']\n",
    "    boxscore_adv_keep = ['GAME_ID', 'TEAM_ID', 'OFF_RATING', 'DEF_RATING', 'NET_RATING', \n",
    "                         'AST_PCT', 'AST_TOV', 'AST_RATIO', 'DREB_PCT', 'REB_PCT', \n",
    "                         'TS_PCT', 'USG_PCT', 'PACE', 'PIE']\n",
    "    boxscore_4f_keep = ['GAME_ID', 'TEAM_ID', 'EFG_PCT', 'FTA_RATE', 'TM_TOV_PCT', \n",
    "                        'OREB_PCT', 'OPP_EFG_PCT', 'OPP_FTA_RATE', 'OPP_TOV_PCT', 'OPP_OREB_PCT']\n",
    "    boxscore_misc_keep = ['GAME_ID', 'TEAM_ID', 'PTS_OFF_TOV', 'PTS_2ND_CHANCE', 'PTS_FB', 'PTS_PAINT',\n",
    "                          'OPP_PTS_OFF_TOV', 'OPP_PTS_2ND_CHANCE', 'OPP_PTS_FB', 'OPP_PTS_PAINT',\n",
    "                          'BLK', 'BLKA', 'PF', 'PFD']\n",
    "    boxscore_score_keep = ['GAME_ID', 'TEAM_ID', 'PCT_FGA_2PT', 'PCT_FGA_3PT', 'PCT_PTS_2PT', \n",
    "                           'PCT_PTS_2PT_MR', 'PCT_PTS_3PT', 'PCT_PTS_FB', 'PCT_PTS_FT', 'PCT_PTS_OFF_TOV',\n",
    "                           'PCT_PTS_PAINT', 'PCT_AST_2PM', 'PCT_UAST_2PM', 'PCT_AST_3PM',\n",
    "                           'PCT_UAST_3PM', 'PCT_AST_FGM', 'PCT_UAST_FGM']\n",
    "\n",
    "    game_summary_keep = ['GAME_ID', 'GAME_DATE_EST', 'GAME_SEQUENCE', 'HOME_TEAM_ID', 'VISITOR_TEAM_ID']\n",
    "    line_score_keep = ['GAME_ID', 'TEAM_ID', 'PTS_QTR1', 'PTS_QTR2', 'PTS_QTR3', 'PTS_QTR4', 'PTS']\n",
    "    other_stats_keep  = ['TEAM_ID', 'LARGEST_LEAD', 'LEAD_CHANGES']\n",
    "    \n",
    "    boxscore = api_game.Boxscore(game_id).team_stats()[boxscore_keep]\n",
    "    time.sleep(sleep_between_requests)\n",
    "    \n",
    "    boxscore_adv = api_game.BoxscoreAdvanced(game_id).sql_team_advanced()[boxscore_adv_keep]\n",
    "    time.sleep(sleep_between_requests)\n",
    "    \n",
    "    boxscore_4f = api_game.BoxscoreFourFactors(game_id).sql_team_four_factors()[boxscore_4f_keep]\n",
    "    time.sleep(sleep_between_requests)\n",
    "    \n",
    "    boxscore_misc = api_game.BoxscoreMisc(game_id).sql_team_misc()[boxscore_misc_keep]\n",
    "    time.sleep(sleep_between_requests)\n",
    "    \n",
    "    boxscore_score = api_game.BoxscoreScoring(game_id).sql_team_scoring()[boxscore_score_keep]\n",
    "    time.sleep(sleep_between_requests)\n",
    "    \n",
    "    summary = api_game.BoxscoreSummary(game_id)\n",
    "    game_summary = summary.game_summary()[game_summary_keep]\n",
    "    line_score = summary.line_score()[line_score_keep]\n",
    "    other_stats = summary.other_stats()[other_stats_keep]\n",
    "\n",
    "    boxscore_combined = boxscore_4f.merge(boxscore_adv, on=['GAME_ID', 'TEAM_ID']) \n",
    "    boxscore_combined = boxscore_combined.merge(boxscore_misc, on=['GAME_ID', 'TEAM_ID']) \n",
    "    boxscore_combined = boxscore_combined.merge(boxscore_score, on=['GAME_ID', 'TEAM_ID']) \n",
    "    boxscore_combined = boxscore_combined.merge(line_score, on=['GAME_ID', 'TEAM_ID']) \n",
    "    boxscore_combined = boxscore_combined.merge(game_summary, on=['GAME_ID']) \n",
    "    boxscore_combined = boxscore_combined.merge(other_stats, on=['TEAM_ID']) \n",
    "    \n",
    "    return boxscore_combined\n",
    "\n",
    "\n",
    "\n",
    "def scrape_season_boxscores(season_lengths, skip_seasons=[]):\n",
    "    '''\n",
    "    Use season_lengths dict to collect each season's box scores and save to parquet\n",
    "    '''\n",
    "    \n",
    "    for season in season_lengths.keys():\n",
    "        if season in skip_seasons:\n",
    "            print(\"Skipping \" + season)\n",
    "            \n",
    "        else:\n",
    "            boxscore_combined = pd.DataFrame()\n",
    "\n",
    "            for game in range(1, season_lengths[season]+1):\n",
    "                gameid = '002{}{}'.format(season[2:4], str(game).zfill(5))\n",
    "                boxscore_combined = boxscore_combined.append(\n",
    "                    get_game_features(gameid, sleep_between_requests=0), ignore_index=True)\n",
    "\n",
    "                if game%10 == 0:\n",
    "                    print('Up to {}, game {} / {}'.format(season, game, season_lengths[season]))\n",
    "\n",
    "            boxscore_combined.to_parquet('boxscores_raw_{}.parquet'.format(season))\n"
   ]
  },
  {
   "cell_type": "code",
   "execution_count": 28,
   "metadata": {},
   "outputs": [
    {
     "name": "stdout",
     "output_type": "stream",
     "text": [
      "Up to 2002-03, game 10 / 1189\n",
      "Up to 2002-03, game 20 / 1189\n",
      "Up to 2002-03, game 30 / 1189\n",
      "Up to 2002-03, game 40 / 1189\n",
      "Up to 2002-03, game 50 / 1189\n",
      "Up to 2002-03, game 60 / 1189\n",
      "Up to 2002-03, game 70 / 1189\n",
      "Up to 2002-03, game 80 / 1189\n",
      "Up to 2002-03, game 90 / 1189\n",
      "Up to 2002-03, game 100 / 1189\n",
      "Up to 2002-03, game 110 / 1189\n",
      "Up to 2002-03, game 120 / 1189\n",
      "Up to 2002-03, game 130 / 1189\n",
      "Up to 2002-03, game 140 / 1189\n",
      "Up to 2002-03, game 150 / 1189\n",
      "Up to 2002-03, game 160 / 1189\n",
      "Up to 2002-03, game 170 / 1189\n",
      "Up to 2002-03, game 180 / 1189\n",
      "Up to 2002-03, game 190 / 1189\n",
      "Up to 2002-03, game 200 / 1189\n",
      "Up to 2002-03, game 210 / 1189\n",
      "Up to 2002-03, game 220 / 1189\n",
      "Up to 2002-03, game 230 / 1189\n",
      "Up to 2002-03, game 240 / 1189\n",
      "Up to 2002-03, game 250 / 1189\n",
      "Up to 2002-03, game 260 / 1189\n",
      "Up to 2002-03, game 270 / 1189\n",
      "Up to 2002-03, game 280 / 1189\n",
      "Up to 2002-03, game 290 / 1189\n",
      "Up to 2002-03, game 300 / 1189\n",
      "Up to 2002-03, game 310 / 1189\n",
      "Up to 2002-03, game 320 / 1189\n",
      "Up to 2002-03, game 330 / 1189\n",
      "Up to 2002-03, game 340 / 1189\n",
      "Up to 2002-03, game 350 / 1189\n",
      "Up to 2002-03, game 360 / 1189\n",
      "Up to 2002-03, game 370 / 1189\n",
      "Up to 2002-03, game 380 / 1189\n",
      "Up to 2002-03, game 390 / 1189\n",
      "Up to 2002-03, game 400 / 1189\n",
      "Up to 2002-03, game 410 / 1189\n",
      "Up to 2002-03, game 420 / 1189\n",
      "Up to 2002-03, game 430 / 1189\n",
      "Up to 2002-03, game 440 / 1189\n",
      "Up to 2002-03, game 450 / 1189\n",
      "Up to 2002-03, game 460 / 1189\n",
      "Up to 2002-03, game 470 / 1189\n",
      "Up to 2002-03, game 480 / 1189\n",
      "Up to 2002-03, game 490 / 1189\n",
      "Up to 2002-03, game 500 / 1189\n",
      "Up to 2002-03, game 510 / 1189\n",
      "Up to 2002-03, game 520 / 1189\n",
      "Up to 2002-03, game 530 / 1189\n",
      "Up to 2002-03, game 540 / 1189\n",
      "Up to 2002-03, game 550 / 1189\n",
      "Up to 2002-03, game 560 / 1189\n",
      "Up to 2002-03, game 570 / 1189\n",
      "Up to 2002-03, game 580 / 1189\n",
      "Up to 2002-03, game 590 / 1189\n",
      "Up to 2002-03, game 600 / 1189\n",
      "Up to 2002-03, game 610 / 1189\n",
      "Up to 2002-03, game 620 / 1189\n",
      "Up to 2002-03, game 630 / 1189\n",
      "Up to 2002-03, game 640 / 1189\n",
      "Up to 2002-03, game 650 / 1189\n",
      "Up to 2002-03, game 660 / 1189\n",
      "Up to 2002-03, game 670 / 1189\n",
      "Up to 2002-03, game 680 / 1189\n",
      "Up to 2002-03, game 690 / 1189\n",
      "Up to 2002-03, game 700 / 1189\n",
      "Up to 2002-03, game 710 / 1189\n",
      "Up to 2002-03, game 720 / 1189\n",
      "Up to 2002-03, game 730 / 1189\n",
      "Up to 2002-03, game 740 / 1189\n",
      "Up to 2002-03, game 750 / 1189\n",
      "Up to 2002-03, game 760 / 1189\n",
      "Up to 2002-03, game 770 / 1189\n",
      "Up to 2002-03, game 780 / 1189\n",
      "Up to 2002-03, game 790 / 1189\n",
      "Up to 2002-03, game 800 / 1189\n",
      "Up to 2002-03, game 810 / 1189\n",
      "Up to 2002-03, game 820 / 1189\n",
      "Up to 2002-03, game 830 / 1189\n",
      "Up to 2002-03, game 840 / 1189\n",
      "Up to 2002-03, game 850 / 1189\n",
      "Up to 2002-03, game 860 / 1189\n",
      "Up to 2002-03, game 870 / 1189\n",
      "Up to 2002-03, game 880 / 1189\n",
      "Up to 2002-03, game 890 / 1189\n",
      "Up to 2002-03, game 900 / 1189\n",
      "Up to 2002-03, game 910 / 1189\n",
      "Up to 2002-03, game 920 / 1189\n",
      "Up to 2002-03, game 930 / 1189\n",
      "Up to 2002-03, game 940 / 1189\n",
      "Up to 2002-03, game 950 / 1189\n",
      "Up to 2002-03, game 960 / 1189\n",
      "Up to 2002-03, game 970 / 1189\n",
      "Up to 2002-03, game 980 / 1189\n",
      "Up to 2002-03, game 990 / 1189\n",
      "Up to 2002-03, game 1000 / 1189\n",
      "Up to 2002-03, game 1010 / 1189\n",
      "Up to 2002-03, game 1020 / 1189\n",
      "Up to 2002-03, game 1030 / 1189\n",
      "Up to 2002-03, game 1040 / 1189\n",
      "Up to 2002-03, game 1050 / 1189\n",
      "Up to 2002-03, game 1060 / 1189\n",
      "Up to 2002-03, game 1070 / 1189\n",
      "Up to 2002-03, game 1080 / 1189\n",
      "Up to 2002-03, game 1090 / 1189\n",
      "Up to 2002-03, game 1100 / 1189\n",
      "Up to 2002-03, game 1110 / 1189\n",
      "Up to 2002-03, game 1120 / 1189\n",
      "Up to 2002-03, game 1130 / 1189\n",
      "Up to 2002-03, game 1140 / 1189\n",
      "Up to 2002-03, game 1150 / 1189\n",
      "Up to 2002-03, game 1160 / 1189\n",
      "Up to 2002-03, game 1170 / 1189\n",
      "Up to 2002-03, game 1180 / 1189\n"
     ]
    }
   ],
   "source": [
    "scrape_season_boxscores({'2002-03': 1189})#, skip_seasons=['2000-01','2001-02','2002-03','2003-04', '2004-05'])\n",
    "# 04-05 is broken and will need to be fixed by loading from disc"
   ]
  },
  {
   "cell_type": "code",
   "execution_count": 6,
   "metadata": {
    "collapsed": true
   },
   "outputs": [],
   "source": [
    "%timeit"
   ]
  },
  {
   "cell_type": "markdown",
   "metadata": {},
   "source": [
    "## Player level stats:"
   ]
  },
  {
   "cell_type": "code",
   "execution_count": 5,
   "metadata": {},
   "outputs": [
    {
     "data": {
      "text/plain": [
       "1040    201142\n",
       "Name: PERSON_ID, dtype: int64"
      ]
     },
     "execution_count": 5,
     "metadata": {},
     "output_type": "execute_result"
    }
   ],
   "source": [
    "api_player.get_player('Kevin', 'Durant')"
   ]
  },
  {
   "cell_type": "code",
   "execution_count": null,
   "metadata": {
    "collapsed": true
   },
   "outputs": [],
   "source": [
    "## Take a look at NBA Finals 2017-18\n",
    "good_cols = ['GAME_DATE_EST', 'TEAM_NICKNAME',\n",
    "       'TEAM_WINS_LOSSES', 'PTS_QTR1', 'PTS_QTR2', 'PTS_QTR3', 'PTS_QTR4', 'PTS']\n",
    "game_number = 4\n",
    "idx = \"00217{}\".format(str(game_number).zfill(5)) #\"0041700404\"\n",
    "print(idx)\n",
    "boxscore_summary = api.game.BoxscoreSummary(idx)\n",
    "boxscore_summary.line_score()[good_cols]\n",
    "# game_stats = game.BoxscoreAdvanced(id1)\n",
    "# game_stats.sql_team_advanced()"
   ]
  },
  {
   "cell_type": "code",
   "execution_count": 13,
   "metadata": {},
   "outputs": [
    {
     "name": "stdout",
     "output_type": "stream",
     "text": [
      "      GAME_ID  HOME_TEAM_ID  VISITOR_TEAM_ID        GAME_DATE_EST  \\\n",
      "0  0021600457    1610612739       1610612744  2016-12-25T00:00:00   \n",
      "\n",
      "   HOME_TEAM_WINS  HOME_TEAM_LOSSES SERIES_LEADER  \n",
      "0               1                 1          Tied  \n"
     ]
    }
   ],
   "source": [
    "boxscore_summary = api_game.BoxscoreSummary(\"0021600457\")\n",
    "# print(boxscore_summary.line_score().iloc[:,8:])\n",
    "print(boxscore_summary.season_series())"
   ]
  },
  {
   "cell_type": "code",
   "execution_count": 26,
   "metadata": {},
   "outputs": [
    {
     "data": {
      "text/plain": [
       "TEAM_CITY_NAME      Cleveland\n",
       "TEAM_NICKNAME       Cavaliers\n",
       "TEAM_WINS_LOSSES         23-6\n",
       "PTS_QTR1                   25\n",
       "PTS_QTR2                   27\n",
       "PTS_QTR3                   28\n",
       "PTS_QTR4                   29\n",
       "PTS_OT1                     0\n",
       "PTS_OT2                     0\n",
       "PTS_OT3                     0\n",
       "PTS_OT4                     0\n",
       "PTS_OT5                     0\n",
       "PTS_OT6                     0\n",
       "PTS_OT7                     0\n",
       "PTS_OT8                     0\n",
       "PTS_OT9                     0\n",
       "PTS_OT10                    0\n",
       "PTS                       109\n",
       "Name: 0, dtype: object"
      ]
     },
     "execution_count": 26,
     "metadata": {},
     "output_type": "execute_result"
    }
   ],
   "source": [
    "boxscore_summary.line_score().iloc[0,5:]"
   ]
  }
 ],
 "metadata": {
  "kernelspec": {
   "display_name": "Python 3",
   "language": "python",
   "name": "python3"
  },
  "language_info": {
   "codemirror_mode": {
    "name": "ipython",
    "version": 3
   },
   "file_extension": ".py",
   "mimetype": "text/x-python",
   "name": "python",
   "nbconvert_exporter": "python",
   "pygments_lexer": "ipython3",
   "version": "3.6.0"
  }
 },
 "nbformat": 4,
 "nbformat_minor": 2
}
